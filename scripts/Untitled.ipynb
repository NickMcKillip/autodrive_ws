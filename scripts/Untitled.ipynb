{
 "cells": [
  {
   "cell_type": "code",
   "execution_count": 5,
   "metadata": {},
   "outputs": [],
   "source": [
    "#!/usr/bin/env python3\n",
    "\n",
    "# ============================ Information =============================\n",
    "# Project:      Texas A&M AutoDrive Challenge - Year 2\n",
    "# Language:     Python 3.5.2\n",
    "# ROS Package:  camera_detection\n",
    "# Repository:   https://github.tamu.edu/kipvasq9/camera_detection\n",
    "# File Name:    camera_detection.py\n",
    "# Version:      1.0.0\n",
    "# Description:  Provide access to Neural Networks through ROS.\n",
    "# Date:         September 24, 2018\n",
    "# Author:       Juan Vasquez and Robert Hodge\n",
    "# Contact:      kipvasq9@tamu.edu\n",
    "\n",
    "# ============================== Imports ===============================\n",
    "import cv2\n",
    "import signal\n",
    "import sys\n",
    "import numpy as np\n",
    "import matplotlib.pyplot as plt\n",
    "import os\n",
    "import time\n",
    "import PIL\n",
    "from PIL import ImageFile\n",
    "from std_msgs.msg import Float32MultiArray\n",
    "ImageFile.LOAD_TRUNCATED_IMAGES = True\n",
    "\n",
    "# neural network\n",
    "import tensorflow as tf\n",
    "import keras\n",
    "from keras_retinanet import models\n",
    "from keras_retinanet.utils.image import read_image_bgr, preprocess_image, resize_image\n",
    "from keras_retinanet.utils.visualization import draw_box, draw_caption\n",
    "from keras_retinanet.utils.colors import label_color\n",
    "from path_planner.msg import TrafficLightArray, TrafficLight"
   ]
  },
  {
   "cell_type": "code",
   "execution_count": 4,
   "metadata": {},
   "outputs": [],
   "source": [
    "rospy.init_node('test_node', anonymous = True)\n",
    "\n",
    "rospy.spin()\n"
   ]
  },
  {
   "cell_type": "code",
   "execution_count": null,
   "metadata": {},
   "outputs": [],
   "source": []
  }
 ],
 "metadata": {
  "kernelspec": {
   "display_name": "Python 3",
   "language": "python",
   "name": "python3"
  },
  "language_info": {
   "codemirror_mode": {
    "name": "ipython",
    "version": 3
   },
   "file_extension": ".py",
   "mimetype": "text/x-python",
   "name": "python",
   "nbconvert_exporter": "python",
   "pygments_lexer": "ipython3",
   "version": "3.5.1+"
  }
 },
 "nbformat": 4,
 "nbformat_minor": 2
}
